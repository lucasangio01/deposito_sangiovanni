{
 "cells": [
  {
   "cell_type": "code",
   "execution_count": null,
   "id": "96193ad9",
   "metadata": {},
   "outputs": [
    {
     "name": "stdout",
     "output_type": "stream",
     "text": [
      "SSL_CERT_FILE: C:\\Users\\ZJ715MA\\AppData\\Local\\Programs\\Python\\Python313\\Lib\\site-packages\\certifi\\cacert.pem\n",
      "REQUESTS_CA_BUNDLE: C:\\Users\\ZJ715MA\\AppData\\Local\\Programs\\Python\\Python313\\Lib\\site-packages\\certifi\\cacert.pem\n"
     ]
    }
   ],
   "source": [
    "import os\n",
    "print(\"SSL_CERT_FILE:\", os.environ.get(\"SSL_CERT_FILE\"))\n",
    "print(\"REQUESTS_CA_BUNDLE:\", os.environ.get(\"REQUESTS_CA_BUNDLE\"))"
   ]
  },
  {
   "cell_type": "code",
   "execution_count": 5,
   "id": "385973e8",
   "metadata": {},
   "outputs": [
    {
     "name": "stderr",
     "output_type": "stream",
     "text": [
      "c:\\Users\\ZJ715MA\\OneDrive - EY\\Documents\\PythonProve\\venv\\Lib\\site-packages\\tqdm\\auto.py:21: TqdmWarning: IProgress not found. Please update jupyter and ipywidgets. See https://ipywidgets.readthedocs.io/en/stable/user_install.html\n",
      "  from .autonotebook import tqdm as notebook_tqdm\n"
     ]
    },
    {
     "name": "stdout",
     "output_type": "stream",
     "text": [
      "Similarità semantica tra le frasi: 0.6567\n"
     ]
    }
   ],
   "source": [
    "from sentence_transformers import SentenceTransformer\n",
    "import numpy as np\n",
    "\n",
    "# 1) Inizializza il modello (solo CPU) - veloce e multilingue\n",
    "# Buon compromesso qualità/velocità per IT: paraphrase-multilingual-MiniLM-L12-v2\n",
    "model_name = \"sentence-transformers/paraphrase-multilingual-MiniLM-L12-v2\"\n",
    "model2 = \"distiluse-base-multilingual-cased-v2\"\n",
    "model = SentenceTransformer(model_name, device=\"cpu\")\n",
    "\n",
    "# 2) Frasi da confrontare\n",
    "sentence_1 = \"Eventi in montagna nel 2025\"\n",
    "sentence_2 = \"Cosa fare sulle Alpi\"\n",
    "\n",
    "# 3) Similarità coseno con embedding normalizzati (più stabile)\n",
    "def semantic_similarity(sent1: str, sent2: str, model: SentenceTransformer) -> float:\n",
    "    emb = model.encode([sent1, sent2], convert_to_numpy=True, normalize_embeddings=True)\n",
    "    # Con vettori unitari il coseno è il prodotto scalare\n",
    "    return float(np.dot(emb[0], emb[1]))\n",
    "\n",
    "# 4) Calcolo e stampa del risultato\n",
    "score = semantic_similarity(sentence_1, sentence_2, model)\n",
    "print(f\"Similarità semantica tra le frasi: {score:.4f}\")"
   ]
  },
  {
   "cell_type": "markdown",
   "id": "c5d15ff2",
   "metadata": {},
   "source": [
    "1. fare il deploy di embedding su azure e scrivere script in python in cui si chiama (chiami una frase e restituisce il vettore)\n",
    "2. torna su streamlit e guarda come implementare la libreria tenacity (per richiamare gli api nel caso in cui non parte in modo automatico)"
   ]
  }
 ],
 "metadata": {
  "kernelspec": {
   "display_name": "deposito-sangiovanni-U08cLU1_-py3.13",
   "language": "python",
   "name": "python3"
  },
  "language_info": {
   "codemirror_mode": {
    "name": "ipython",
    "version": 3
   },
   "file_extension": ".py",
   "mimetype": "text/x-python",
   "name": "python",
   "nbconvert_exporter": "python",
   "pygments_lexer": "ipython3",
   "version": "3.13.3"
  }
 },
 "nbformat": 4,
 "nbformat_minor": 5
}
