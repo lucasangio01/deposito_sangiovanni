{
 "cells": [
  {
   "cell_type": "code",
   "execution_count": 1,
   "id": "b64fc728",
   "metadata": {},
   "outputs": [],
   "source": [
    "import os\n",
    "from dotenv import load_dotenv\n",
    "from utils import *"
   ]
  },
  {
   "cell_type": "code",
   "execution_count": null,
   "id": "96193ad9",
   "metadata": {},
   "outputs": [
    {
     "name": "stdout",
     "output_type": "stream",
     "text": [
      "SSL_CERT_FILE: C:\\Users\\ZJ715MA\\AppData\\Local\\Programs\\Python\\Python313\\Lib\\site-packages\\certifi\\cacert.pem\n",
      "REQUESTS_CA_BUNDLE: C:\\Users\\ZJ715MA\\AppData\\Local\\Programs\\Python\\Python313\\Lib\\site-packages\\certifi\\cacert.pem\n"
     ]
    }
   ],
   "source": [
    "print(\"SSL_CERT_FILE:\", os.environ.get(\"SSL_CERT_FILE\"))\n",
    "print(\"REQUESTS_CA_BUNDLE:\", os.environ.get(\"REQUESTS_CA_BUNDLE\"))"
   ]
  }
 ],
 "metadata": {
  "kernelspec": {
   "display_name": "deposito-sangiovanni-U08cLU1_-py3.13",
   "language": "python",
   "name": "python3"
  },
  "language_info": {
   "codemirror_mode": {
    "name": "ipython",
    "version": 3
   },
   "file_extension": ".py",
   "mimetype": "text/x-python",
   "name": "python",
   "nbconvert_exporter": "python",
   "pygments_lexer": "ipython3",
   "version": "3.13.3"
  }
 },
 "nbformat": 4,
 "nbformat_minor": 5
}
